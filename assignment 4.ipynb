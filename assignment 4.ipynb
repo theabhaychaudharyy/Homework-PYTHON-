{
 "cells": [
  {
   "cell_type": "raw",
   "id": "0a32f4ad-0a19-4d53-bfea-3ce9a0702b73",
   "metadata": {},
   "source": [
    "DEF is used for creating a function..."
   ]
  },
  {
   "cell_type": "code",
   "execution_count": 6,
   "id": "5a059d1b-0980-4d92-b5ed-e8e57edcb124",
   "metadata": {},
   "outputs": [],
   "source": [
    "def oddnumbers(n):\n",
    "  l=[]\n",
    "  for i in range(n):\n",
    "    if i%2!=0:\n",
    "      l.append(i)\n",
    "  return l"
   ]
  },
  {
   "cell_type": "code",
   "execution_count": 5,
   "id": "83c8bc5f-6210-4dd4-9f89-973c1f5805d4",
   "metadata": {},
   "outputs": [
    {
     "data": {
      "text/plain": [
       "[1, 3, 5, 7, 9, 11, 13, 15, 17, 19, 21, 23]"
      ]
     },
     "execution_count": 5,
     "metadata": {},
     "output_type": "execute_result"
    }
   ],
   "source": [
    "x=oddnumbers(25)\n",
    "x"
   ]
  },
  {
   "cell_type": "raw",
   "id": "2ca7df9c-e33c-4ca6-a9fc-191faf35b63b",
   "metadata": {},
   "source": [
    "args allow us to pass the variable number of non keyword arguments to function. In the function, we should use an asterisk before the parameter name to pass variable length arguments.The arguments are passed as a tuple and these passed arguments make tuple inside the function with same name as the parameter"
   ]
  },
  {
   "cell_type": "raw",
   "id": "8dac2a24-bbf4-4bec-8c09-be75f7b46ad9",
   "metadata": {},
   "source": [
    "kwargs, allows us to pass the variable length of keyword arguments to the function. In the function, we use the double asterisk before the parameter name to denote this type of argument. The arguments are passed as a dictionary and these arguments make a dictionary inside function with name same as the parameter"
   ]
  },
  {
   "cell_type": "code",
   "execution_count": 7,
   "id": "45150167-c6e1-4956-8f54-0b2eeaeb4bee",
   "metadata": {},
   "outputs": [
    {
     "name": "stdout",
     "output_type": "stream",
     "text": [
      "Sum: 8\n"
     ]
    }
   ],
   "source": [
    "def add(*num):\n",
    "    sum = 0\n",
    "    \n",
    "    for n in num:\n",
    "        sum = sum + n\n",
    "\n",
    "    print(\"Sum:\",sum)\n",
    "\n",
    "add(3,5)"
   ]
  },
  {
   "cell_type": "code",
   "execution_count": 8,
   "id": "a562ce6f-33f9-49ba-bed4-729763dd6498",
   "metadata": {},
   "outputs": [
    {
     "name": "stdout",
     "output_type": "stream",
     "text": [
      "\n",
      "Data type of argument: <class 'dict'>\n",
      "Firstname is Sita\n",
      "Lastname is Sharma\n",
      "Age is 22\n",
      "Phone is 1234567890\n"
     ]
    }
   ],
   "source": [
    "def intro(**data):\n",
    "    print(\"\\nData type of argument:\",type(data))\n",
    "\n",
    "    for key, value in data.items():\n",
    "        print(\"{} is {}\".format(key,value))\n",
    "intro(Firstname=\"Sita\", Lastname=\"Sharma\", Age=22, Phone=1234567890)"
   ]
  },
  {
   "cell_type": "raw",
   "id": "299b307a-685d-4f92-85c2-aafa0b92dd52",
   "metadata": {},
   "source": [
    "iterator in Python is an object that is used to iterate over iterable objectssuch as lists, tuples, dicts, and sets. The iterator object is initialized using the iter() method. It uses the next() method for iteration."
   ]
  },
  {
   "cell_type": "code",
   "execution_count": 11,
   "id": "42931137-2bfe-4885-a07e-9f2b195f3449",
   "metadata": {},
   "outputs": [
    {
     "name": "stdout",
     "output_type": "stream",
     "text": [
      "2\n",
      "4\n",
      "6\n",
      "8\n",
      "10\n"
     ]
    }
   ],
   "source": [
    "list_1= [2, 4, 6, 8, 10, 12, 14,16, 18, 20]\n",
    "l1=iter(list_1)\n",
    "print(next(l1))\n",
    "print(next(l1))\n",
    "print(next(l1))\n",
    "print(next(l1))\n",
    "print(next(l1))"
   ]
  },
  {
   "cell_type": "code",
   "execution_count": 12,
   "id": "52049686-02e0-4289-943a-912f72a15cb9",
   "metadata": {},
   "outputs": [
    {
     "name": "stdout",
     "output_type": "stream",
     "text": [
      "<generator object gen_ at 0x7f1efc417060>\n"
     ]
    },
    {
     "data": {
      "text/plain": [
       "2"
      ]
     },
     "execution_count": 12,
     "metadata": {},
     "output_type": "execute_result"
    }
   ],
   "source": [
    "def gen_():\n",
    "     my_list = [1, 2, 3]\n",
    "     for i in my_list:\n",
    "             yield i * 2\n",
    "\n",
    "mygen = gen_()\n",
    "print(mygen)\n",
    "next(mygen)"
   ]
  },
  {
   "cell_type": "code",
   "execution_count": 13,
   "id": "65da72a5-23a4-4e1c-bacc-dd3b07a7b7e6",
   "metadata": {},
   "outputs": [],
   "source": [
    "def primenum(num, val):\n",
    "    primes = []\n",
    "    for i in range(2, num):\n",
    "        for j in range(2, int(i / 2) + 1):\n",
    "            if i % j == 0:\n",
    "                break\n",
    "        else:\n",
    "            primes.append(i)\n",
    "        \n",
    "    for i in range(1 - val, len(primes), 2):\n",
    "        yield primes[i]"
   ]
  },
  {
   "cell_type": "code",
   "execution_count": 14,
   "id": "e1c0f2bf-335d-4590-8299-303527fa7228",
   "metadata": {},
   "outputs": [
    {
     "name": "stdin",
     "output_type": "stream",
     "text": [
      " 45\n"
     ]
    },
    {
     "name": "stdout",
     "output_type": "stream",
     "text": [
      "Fibonacci series is:  0 1 0 1 1 2 3 5 8 13 21 34 55 89 144 233 377 610 987 1597 2584 4181 6765 10946 17711 28657 46368 75025 121393 196418 317811 514229 832040 1346269 2178309 3524578 5702887 9227465 14930352 24157817 39088169 63245986 102334155 165580141 267914296 "
     ]
    }
   ],
   "source": [
    "n = int(input())\n",
    "a = 0\n",
    "b = 1\n",
    "sum = 0\n",
    "count = 1\n",
    "print(\"Fibonacci series is: \", end = \" \")\n",
    "while(count <= n):\n",
    "  count += 1\n",
    "  print(a, end=\" \")\n",
    "  a = b\n",
    "  b = sum\n",
    "  sum = a + b"
   ]
  },
  {
   "cell_type": "code",
   "execution_count": 15,
   "id": "d15e3683-5019-4c9a-8aa1-71cc4bb70e28",
   "metadata": {},
   "outputs": [
    {
     "name": "stdout",
     "output_type": "stream",
     "text": [
      "['p', 'w', 's', 'k', 'i', 'l', 'l', 's']\n"
     ]
    }
   ],
   "source": [
    "List_1 = [character for character in \"pwskills\"]\n",
    "print(List_1)"
   ]
  },
  {
   "cell_type": "code",
   "execution_count": 16,
   "id": "c3c42667-6938-4492-949d-eccbff195589",
   "metadata": {},
   "outputs": [
    {
     "name": "stdin",
     "output_type": "stream",
     "text": [
      "Enter a number: 45\n"
     ]
    },
    {
     "name": "stdout",
     "output_type": "stream",
     "text": [
      "Not a palindrome!\n"
     ]
    }
   ],
   "source": [
    "num=int(input(\"Enter a number:\"))\n",
    "temp=num\n",
    "rev=0\n",
    "while(num>0):\n",
    "    dig=num%10\n",
    "    rev=rev*10+dig\n",
    "    num=num//10\n",
    "if(temp==rev):\n",
    "    print(\"The number is palindrome!\")\n",
    "else:\n",
    "    print(\"Not a palindrome!\")"
   ]
  },
  {
   "cell_type": "code",
   "execution_count": 17,
   "id": "1f492436-8ea3-40ae-9b83-012182af1a69",
   "metadata": {},
   "outputs": [
    {
     "name": "stdout",
     "output_type": "stream",
     "text": [
      "[1, 3, 5, 7, 9, 11, 13, 15, 17, 19, 21, 23, 25, 27, 29, 31, 33, 35, 37, 39, 41, 43, 45, 47, 49, 51, 53, 55, 57, 59, 61, 63, 65, 67, 69, 71, 73, 75, 77, 79, 81, 83, 85, 87, 89, 91, 93, 95, 97, 99]\n"
     ]
    }
   ],
   "source": [
    "odd_list = [element for element in range(1, 101) if element % 2 == 1 ]\n",
    "print(odd_list)"
   ]
  }
 ],
 "metadata": {
  "kernelspec": {
   "display_name": "Python 3 (ipykernel)",
   "language": "python",
   "name": "python3"
  },
  "language_info": {
   "codemirror_mode": {
    "name": "ipython",
    "version": 3
   },
   "file_extension": ".py",
   "mimetype": "text/x-python",
   "name": "python",
   "nbconvert_exporter": "python",
   "pygments_lexer": "ipython3",
   "version": "3.10.8"
  }
 },
 "nbformat": 4,
 "nbformat_minor": 5
}
