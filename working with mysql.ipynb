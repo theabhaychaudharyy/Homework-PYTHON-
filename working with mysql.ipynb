{
 "cells": [
  {
   "cell_type": "raw",
   "id": "749a1e62-29bb-40e0-ac09-d12adf5c3d04",
   "metadata": {},
   "source": [
    "#QUESTION 1\n",
    "database is a organised collection of  data.\n",
    "SQl is structured query language,i.e. we have data stored in the form of  tables.Example->MYSQL\n",
    "NoSQL has no fixed structure the data is not stored in tables form.Example-> MongoDB"
   ]
  },
  {
   "cell_type": "raw",
   "id": "219c79db-20c9-41ae-bd0e-e5ddd6586a4c",
   "metadata": {},
   "source": [
    "#question 2\n",
    "DDL id data defination language\n",
    "CREATE is used for creating , DROP is used for deleting an existing record,ALTER is used for changing/altering the data, TRUNCATE is used to empty all the data in a table."
   ]
  },
  {
   "cell_type": "raw",
   "id": "e438963b-e504-4f20-b7d9-7eaaa6ab8007",
   "metadata": {},
   "source": [
    "#QUESTION 3\n",
    "DML stands for Data manipulation language it is used for manipulate the data.\n",
    "INSERT is used for inserting a new value.\n",
    "UPDATE is used for updating an existing value.\n",
    "DELETE is used for deleting a value or record.\n"
   ]
  },
  {
   "cell_type": "raw",
   "id": "02297c66-c346-4c68-b095-10d4c552d97d",
   "metadata": {},
   "source": [
    "#QUESTION 4\n",
    "DQL stands for DATA QUERY LANGUAGE.\n",
    "Example:-> SELECT * from STUDENTS\n",
    "from above example we will select all the rows and coloumns present in the STUDENTS table."
   ]
  },
  {
   "cell_type": "raw",
   "id": "be54fde3-a7e1-4e20-a04b-1538bc67d805",
   "metadata": {},
   "source": [
    "#Question 5\n",
    "Primary key is the unique and not null key, while foreign key is the key used for connecting to alternate tables."
   ]
  },
  {
   "cell_type": "raw",
   "id": "123f81c3-dcdb-4c6f-a595-f5d7b91ffd5e",
   "metadata": {},
   "source": [
    "#Question 6\n",
    "cursor() is like a pointer that points every single point of the code.\n",
    "execute() is a command used for exectuing any command in python that is written in mysql format. "
   ]
  },
  {
   "cell_type": "raw",
   "id": "6779eb33-8cd6-466c-8934-9c5bc093d84a",
   "metadata": {},
   "source": []
  }
 ],
 "metadata": {
  "kernelspec": {
   "display_name": "Python 3 (ipykernel)",
   "language": "python",
   "name": "python3"
  },
  "language_info": {
   "codemirror_mode": {
    "name": "ipython",
    "version": 3
   },
   "file_extension": ".py",
   "mimetype": "text/x-python",
   "name": "python",
   "nbconvert_exporter": "python",
   "pygments_lexer": "ipython3",
   "version": "3.10.8"
  }
 },
 "nbformat": 4,
 "nbformat_minor": 5
}
