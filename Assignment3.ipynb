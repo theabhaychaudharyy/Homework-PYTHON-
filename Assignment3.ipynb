{
 "cells": [
  {
   "cell_type": "raw",
   "id": "446a286e-e242-4f26-9488-8f465167a432",
   "metadata": {},
   "source": [
    "for loop is used when the no of iterations are fixed, while loop is used until the given statement is false."
   ]
  },
  {
   "cell_type": "code",
   "execution_count": 1,
   "id": "3332c0db-d42d-4a23-be0e-205041fd84f6",
   "metadata": {},
   "outputs": [
    {
     "name": "stdout",
     "output_type": "stream",
     "text": [
      "55\n"
     ]
    }
   ],
   "source": [
    "sum=0;\n",
    "for i in range(11):\n",
    "  sum=sum+i\n",
    "print(sum) "
   ]
  },
  {
   "cell_type": "code",
   "execution_count": 2,
   "id": "0cd7f399-ebb3-46b4-b135-d4bd63bd7e62",
   "metadata": {},
   "outputs": [
    {
     "name": "stdout",
     "output_type": "stream",
     "text": [
      "3628800\n"
     ]
    }
   ],
   "source": [
    "prod=1;\n",
    "for i in range(1,11,1):\n",
    "  prod=prod*i\n",
    "print(prod)"
   ]
  },
  {
   "cell_type": "code",
   "execution_count": 3,
   "id": "48bda12e-1a1a-4b3b-ac63-350cfc5af770",
   "metadata": {},
   "outputs": [
    {
     "name": "stdout",
     "output_type": "stream",
     "text": [
      "55\n"
     ]
    }
   ],
   "source": [
    "sum=0\n",
    "i=1;\n",
    "while i<=10:\n",
    "  sum=sum+i\n",
    "  i+=1\n",
    "print(sum)"
   ]
  },
  {
   "cell_type": "code",
   "execution_count": 4,
   "id": "1d274a0b-e1a0-416e-97e2-c4b9a79a0164",
   "metadata": {},
   "outputs": [
    {
     "name": "stdout",
     "output_type": "stream",
     "text": [
      "3628800\n"
     ]
    }
   ],
   "source": [
    "i=1\n",
    "prod=1\n",
    "while i<11:\n",
    "  prod=prod*i\n",
    "  i+=1\n",
    "print(prod)"
   ]
  },
  {
   "cell_type": "code",
   "execution_count": 11,
   "id": "8daeea72-826b-4f67-83ba-b1da48f998fe",
   "metadata": {},
   "outputs": [
    {
     "name": "stdout",
     "output_type": "stream",
     "text": [
      "2250.0\n"
     ]
    }
   ],
   "source": [
    "n = 310\n",
    "z = 200\n",
    "sum=0\n",
    "for n in range(1,101):\n",
    "  rate=4.5\n",
    "  sum=sum+rate\n",
    "for n in range(101,201):\n",
    "  rate=6.0\n",
    "  sum=sum+rate\n",
    "\n",
    "for n in range(201,301):\n",
    "  rate=10\n",
    "  sum=sum+rate\n",
    "if(n>300):\n",
    "  x=n-300\n",
    "  z=x*20\n",
    "sum=z+sum\n",
    "\n",
    "print(sum)"
   ]
  },
  {
   "cell_type": "code",
   "execution_count": 6,
   "id": "c0636cd5-5d71-44bf-83f4-14ad27ebeb5a",
   "metadata": {},
   "outputs": [
    {
     "name": "stdout",
     "output_type": "stream",
     "text": [
      "[8, 64, 125, 216, 512, 1000, 1728, 2744, 3375, 4096, 5832, 8000, 10648, 13824, 15625, 17576, 21952, 27000, 32768, 39304, 42875, 46656, 54872, 64000, 74088, 85184, 91125, 97336, 110592, 125000, 140608, 157464, 166375, 175616, 195112, 216000, 238328, 262144, 274625, 287496, 314432, 343000, 373248, 405224, 421875, 438976, 474552, 512000, 551368, 592704, 614125, 636056, 681472, 729000, 778688, 830584, 857375, 884736, 941192, 1000000]\n"
     ]
    }
   ],
   "source": [
    "list=[]\n",
    "for i in range(1,101):\n",
    "  x=pow(i,3)\n",
    "  if x%4==0 or x%5==0:\n",
    "    list.append(x)\n",
    "print(list)"
   ]
  },
  {
   "cell_type": "code",
   "execution_count": 8,
   "id": "c05f8309-5df3-42a0-9bd3-7a5a9e2f25ec",
   "metadata": {},
   "outputs": [
    {
     "name": "stdout",
     "output_type": "stream",
     "text": [
      "['I', 'a', 'o', 'e', 'o', 'e', 'a', 'a', 'a', 'i', 'e', 'i']\n"
     ]
    }
   ],
   "source": [
    "str = \"I want to become a data scientist\"\n",
    "list1=[]\n",
    "for i in str:\n",
    "  if(i==\"a\" or i== \"e\" or i==\"i\" or i== \"o\" or i==\"u\" or i==\"A\" or i== \"E\" or i==\"I\" or i==\"O\" or i==\"U\"):\n",
    "    list1.append(i)\n",
    "print(l)"
   ]
  }
 ],
 "metadata": {
  "kernelspec": {
   "display_name": "Python 3 (ipykernel)",
   "language": "python",
   "name": "python3"
  },
  "language_info": {
   "codemirror_mode": {
    "name": "ipython",
    "version": 3
   },
   "file_extension": ".py",
   "mimetype": "text/x-python",
   "name": "python",
   "nbconvert_exporter": "python",
   "pygments_lexer": "ipython3",
   "version": "3.10.8"
  }
 },
 "nbformat": 4,
 "nbformat_minor": 5
}
