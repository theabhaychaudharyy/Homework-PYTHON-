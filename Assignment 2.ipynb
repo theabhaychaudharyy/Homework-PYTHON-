{
 "cells": [
  {
   "cell_type": "code",
   "execution_count": null,
   "id": "f02771ed-7b86-402a-8d1f-1702a6aa237f",
   "metadata": {},
   "outputs": [],
   "source": [
    "marks = int(input(\"Enter the marks\"))\n",
    "if marks > 90:\n",
    "    print(\"A\")\n",
    "elif marks > 80 and marks <= 90:\n",
    "    print(\"B\")\n",
    "elif marks > 60 and marks <= 80:\n",
    "    print(\"C\")\n",
    "else:\n",
    "    print(\"D\")"
   ]
  },
  {
   "cell_type": "code",
   "execution_count": null,
   "id": "8a780218-830e-4bc5-be54-718159f4ead7",
   "metadata": {},
   "outputs": [],
   "source": [
    "price=int(input(\"enter the price\"))\n",
    "if(price>100000):\n",
    "  tax=0.15\n",
    "if price>50000 and price <= 100000:\n",
    "  tax=0.10\n",
    "if(price<=50000):\n",
    "    tax=0.05\n",
    "Roadtax=price*tax\n",
    "print(Roadtax)"
   ]
  },
  {
   "cell_type": "code",
   "execution_count": null,
   "id": "6750c26d-5595-4472-9045-586d24fc5a4b",
   "metadata": {},
   "outputs": [],
   "source": [
    "city=input(\"enter the city\")\n",
    "if(city==\"delhi\"):\n",
    "  print(\"Red Fort\")\n",
    "if(city==\"Agra\"):\n",
    "  print(\"Taj Mahal\")\n",
    "if(city==\"Jaipur\"):\n",
    "  print(\"Jal Mahal\")"
   ]
  },
  {
   "cell_type": "code",
   "execution_count": null,
   "id": "0fffa387-7770-4bc6-a407-c5be8744a28c",
   "metadata": {},
   "outputs": [],
   "source": [
    "num=int(input())\n",
    "count = 0\n",
    "while num > 10:\n",
    "    num = num/3\n",
    "    count = count + 1\n",
    "print(count)"
   ]
  },
  {
   "cell_type": "raw",
   "id": "3ca73189-022d-4235-8653-4c56199cbbdc",
   "metadata": {},
   "source": [
    "While loop is used when we have to execute any statements as long as the given condition of the statement is True."
   ]
  },
  {
   "cell_type": "code",
   "execution_count": null,
   "id": "f70a6aff-7ecd-4429-99a9-f65fcb378ba9",
   "metadata": {},
   "outputs": [],
   "source": [
    "i = 1\n",
    "j = 1\n",
    "k = 1\n",
    "while i <= n :\n",
    "   \n",
    "    while j <= i:\n",
    "        print(\"{:3d}\".format(k), end = \" \")\n",
    "        j += 1\n",
    "        k += 1\n",
    "    print()\n",
    "    i += 1"
   ]
  },
  {
   "cell_type": "code",
   "execution_count": null,
   "id": "fce20c3b-551f-4009-9498-5515d16fd2ab",
   "metadata": {},
   "outputs": [],
   "source": [
    "i = 1\n",
    "while i <= 5 :\n",
    "    j = 5\n",
    "    while j >= i:\n",
    "        print(\"*\", end = \" \")\n",
    "        j -= 1\n",
    "    print()\n",
    "    i += 1"
   ]
  },
  {
   "cell_type": "code",
   "execution_count": null,
   "id": "a920be8a-c4bb-4d85-b6aa-de606bfc22af",
   "metadata": {},
   "outputs": [],
   "source": [
    "i=1\n",
    "while i<=5:\n",
    "  j=1\n",
    "  while j<=i:\n",
    "    print(\"*\",end=\" \")\n",
    "    j+=1\n",
    "  print()\n",
    "  i+=1"
   ]
  },
  {
   "cell_type": "code",
   "execution_count": null,
   "id": "a5b36240-65b0-451f-9b95-295585c10cfa",
   "metadata": {},
   "outputs": [],
   "source": [
    "i=10;\n",
    "while i>=1:\n",
    "  print(i)\n",
    "  i-=1"
   ]
  }
 ],
 "metadata": {
  "kernelspec": {
   "display_name": "Python 3 (ipykernel)",
   "language": "python",
   "name": "python3"
  },
  "language_info": {
   "codemirror_mode": {
    "name": "ipython",
    "version": 3
   },
   "file_extension": ".py",
   "mimetype": "text/x-python",
   "name": "python",
   "nbconvert_exporter": "python",
   "pygments_lexer": "ipython3",
   "version": "3.10.8"
  }
 },
 "nbformat": 4,
 "nbformat_minor": 5
}
